{
 "cells": [
  {
   "cell_type": "code",
   "execution_count": 7,
   "metadata": {},
   "outputs": [],
   "source": [
    "import requests\n",
    "from datetime import datetime"
   ]
  },
  {
   "cell_type": "code",
   "execution_count": 33,
   "metadata": {},
   "outputs": [
    {
     "name": "stdout",
     "output_type": "stream",
     "text": [
      "{'MarkCarsonDev': ['2024-05-29T01:44:32Z', '2024-01-17T06:41:54Z', '2023-10-11T19:27:30Z', '2023-10-11T20:07:34Z', '2023-10-11T20:08:12Z', '2023-10-24T01:50:22Z', '2023-10-16T18:31:23Z', '2024-05-14T19:50:43Z', '2023-10-16T17:53:42Z', '2024-06-25T01:58:41Z', '2023-10-11T20:07:08Z'], 'natefedidadev': ['2024-02-06T19:12:04Z', '2023-06-23T04:24:23Z']}\n"
     ]
    }
   ],
   "source": [
    "list_of_users = [\"MarkCarsonDev\", \"natefedidadev\"]\n",
    "user_latest_updates = {}\n",
    "\n",
    "for user in list_of_users:\n",
    "    response = requests.get(f\"https://api.github.com/users/{user}/repos\")\n",
    "    data = response.json()\n",
    "    \n",
    "    user_latest_updates[user] = [repo[\"updated_at\"] for repo in data]\n",
    "\n",
    "\n",
    "print(user_latest_updates)"
   ]
  },
  {
   "cell_type": "code",
   "execution_count": 42,
   "metadata": {},
   "outputs": [],
   "source": [
    "sorted_user_updates = {user: sorted(updates, reverse=True, key=lambda x: datetime.fromisoformat(x)) for user, updates in user_latest_updates.items()}\n"
   ]
  },
  {
   "cell_type": "code",
   "execution_count": 43,
   "metadata": {},
   "outputs": [
    {
     "data": {
      "text/plain": [
       "{'MarkCarsonDev': ['2024-06-25T01:58:41Z',\n",
       "  '2024-05-29T01:44:32Z',\n",
       "  '2024-05-14T19:50:43Z',\n",
       "  '2024-01-17T06:41:54Z',\n",
       "  '2023-10-24T01:50:22Z',\n",
       "  '2023-10-16T18:31:23Z',\n",
       "  '2023-10-16T17:53:42Z',\n",
       "  '2023-10-11T20:08:12Z',\n",
       "  '2023-10-11T20:07:34Z',\n",
       "  '2023-10-11T20:07:08Z',\n",
       "  '2023-10-11T19:27:30Z'],\n",
       " 'natefedidadev': ['2024-02-06T19:12:04Z', '2023-06-23T04:24:23Z']}"
      ]
     },
     "execution_count": 43,
     "metadata": {},
     "output_type": "execute_result"
    }
   ],
   "source": [
    "sorted_user_updates"
   ]
  },
  {
   "cell_type": "code",
   "execution_count": null,
   "metadata": {},
   "outputs": [],
   "source": []
  }
 ],
 "metadata": {
  "kernelspec": {
   "display_name": "Python 3",
   "language": "python",
   "name": "python3"
  },
  "language_info": {
   "codemirror_mode": {
    "name": "ipython",
    "version": 3
   },
   "file_extension": ".py",
   "mimetype": "text/x-python",
   "name": "python",
   "nbconvert_exporter": "python",
   "pygments_lexer": "ipython3",
   "version": "3.11.9"
  }
 },
 "nbformat": 4,
 "nbformat_minor": 2
}
